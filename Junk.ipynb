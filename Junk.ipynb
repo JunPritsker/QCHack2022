{
 "cells": [
  {
   "cell_type": "code",
   "execution_count": null,
   "metadata": {
    "collapsed": true,
    "pycharm": {
     "is_executing": true
    }
   },
   "outputs": [],
   "source": [
    "from qiskit import *\n",
    "from qiskit import IBMQ, Aer\n",
    "from qiskit.visualization import plot_histogram\n",
    "from qiskit.providers.aer.noise import NoiseModel\n",
    "\n",
    "# Build noise model from backend properties\n",
    "provider = IBMQ.load_account()\n",
    "backend = provider.get_backend('ibmq_lima')\n",
    "noise_model = NoiseModel.from_backend(backend)\n",
    "\n",
    "# Get coupling map from backend\n",
    "coupling_map = backend.configuration().coupling_map\n",
    "\n",
    "# Get basis gates from noise model\n",
    "basis_gates = noise_model.basis_gates\n",
    "\n",
    "# Make a circuit\n",
    "circ = QuantumCircuit(3, 3)\n",
    "\n",
    "circ.h(0)\n",
    "circ.cx(0, 1)\n",
    "circ.cx(1, 2)\n",
    "circ.measure([0, 1, 2], [0, 1, 2])\n",
    "\n",
    "meas = QuantumCircuit(3,3)\n",
    "meas.measure([0, 1, 2], [0, 1, 2])\n",
    "\n",
    "# Perform a noise simulation\n",
    "result = execute(circ, Aer.get_backend('qasm_simulator'),\n",
    "                 coupling_map=coupling_map,\n",
    "                 basis_gates=basis_gates,\n",
    "                 noise_model=noise_model).result()\n",
    "drawing = circ.compose(meas)\n",
    "result2 = backend.run(transpile(drawing,backend), shots=100).result()\n",
    "counts2 = result.get_counts(circ)\n",
    "counts = result.get_counts(0)\n",
    "plot_histogram(counts)\n",
    "plot_histogram(counts2)\n"
   ]
  }
 ],
 "metadata": {
  "kernelspec": {
   "display_name": "Python 3",
   "language": "python",
   "name": "python3"
  },
  "language_info": {
   "codemirror_mode": {
    "name": "ipython",
    "version": 2
   },
   "file_extension": ".py",
   "mimetype": "text/x-python",
   "name": "python",
   "nbconvert_exporter": "python",
   "pygments_lexer": "ipython2",
   "version": "2.7.6"
  }
 },
 "nbformat": 4,
 "nbformat_minor": 0
}